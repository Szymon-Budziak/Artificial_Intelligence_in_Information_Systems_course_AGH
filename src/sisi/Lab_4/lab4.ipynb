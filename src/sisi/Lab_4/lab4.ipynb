{
 "nbformat": 4,
 "nbformat_minor": 0,
 "metadata": {
  "accelerator": "GPU",
  "colab": {
   "provenance": [],
   "gpuType": "T4"
  },
  "kernelspec": {
   "name": "python3",
   "display_name": "Python 3"
  }
 },
 "cells": [
  {
   "cell_type": "markdown",
   "metadata": {
    "id": "860PFaEBIk3H"
   },
   "source": [
    "# LAB4 - TensorFlow Lite\n",
    "ver: 3"
   ]
  },
  {
   "cell_type": "markdown",
   "metadata": {
    "id": "sSP0m_ZGIi5I"
   },
   "source": [
    "Przedmiot: _Sztuczna Inteligencja w Systemach Informatycznych_\n",
    "\n",
    "Autor: Tomasz Szydło\n",
    "\n",
    "kontakt: tszydlo@agh.edu.pl\n"
   ]
  },
  {
   "cell_type": "markdown",
   "metadata": {
    "id": "pNIkZMJIIceS"
   },
   "source": [
    "## Wprowadzenie\n",
    "\n",
    "Celem zajęć jest analiza działania konwersji sieci neuronowych do postaci możliwej do uruchomienia na urządzeniach o ograniczonych zasobach. W czasie zajęć będzie wykorzystywany zbiór Fashion MNIST, który zawiera 60000 obrazków w 10 kategoriach:\n",
    "\n",
    "https://github.com/zalandoresearch/fashion-mnist\n",
    "\n",
    "\n",
    "https://www.tensorflow.org/datasets/catalog/fashion_mnist\n",
    "\n",
    "\n",
    "### Środowisko pracy - Google Codelab\n",
    "\n",
    "https://codelabs.developers.google.com/?cat=Machine+Learning\n",
    "\n"
   ]
  },
  {
   "cell_type": "code",
   "metadata": {
    "id": "pffqMCSFKRq6",
    "ExecuteTime": {
     "start_time": "2024-03-27T13:27:19.574605Z",
     "end_time": "2024-03-27T13:27:19.575908Z"
    },
    "colab": {
     "base_uri": "https://localhost:8080/"
    },
    "outputId": "8eaf4d18-d12c-466a-e08b-77d84cef1f00"
   },
   "source": [
    "try:\n",
    "    %tensorflow_version 2.x\n",
    "except:\n",
    "    pass"
   ],
   "execution_count": 1,
   "outputs": [
    {
     "output_type": "stream",
     "name": "stdout",
     "text": [
      "Colab only includes TensorFlow 2.x; %tensorflow_version has no effect.\n"
     ]
    }
   ]
  },
  {
   "cell_type": "code",
   "metadata": {
    "id": "hOEVEJ4eKU85",
    "ExecuteTime": {
     "start_time": "2024-03-27T13:28:57.832650Z",
     "end_time": "2024-03-27T13:28:58.209741Z"
    },
    "colab": {
     "base_uri": "https://localhost:8080/"
    },
    "outputId": "c8be36af-e557-4aee-9441-16b63e0b9e5f"
   },
   "source": [
    "import tensorflow as tf\n",
    "from tensorflow.keras.datasets import mnist, fashion_mnist\n",
    "from tensorflow.keras.models import Sequential\n",
    "from tensorflow.keras.layers import Dense, Dropout, Activation, Flatten, Conv2D, AveragePooling2D, MaxPooling2D\n",
    "\n",
    "from tensorflow.keras.utils import to_categorical\n",
    "\n",
    "import numpy as np\n",
    "import matplotlib.pyplot as plt\n",
    "import pathlib\n",
    "\n",
    "import time\n",
    "\n",
    "print(tf.__version__)"
   ],
   "execution_count": 2,
   "outputs": [
    {
     "output_type": "stream",
     "name": "stdout",
     "text": [
      "2.15.0\n"
     ]
    }
   ]
  },
  {
   "cell_type": "markdown",
   "metadata": {
    "id": "1fCavbBCMtQ9"
   },
   "source": [
    "Przygotuj zbiór testowy. Zbiór fashion_mnist nie posiada słownych opisów klas."
   ]
  },
  {
   "cell_type": "code",
   "metadata": {
    "id": "SDtjTnnKai7G",
    "ExecuteTime": {
     "start_time": "2024-03-27T13:29:04.707074Z",
     "end_time": "2024-03-27T13:29:08.590295Z"
    },
    "colab": {
     "base_uri": "https://localhost:8080/"
    },
    "outputId": "89615850-4bb7-4dfb-8240-befd8ead6d9f"
   },
   "source": [
    "nb_classes = 10\n",
    "class_names = ['T-shirt_top', 'Trouser', 'Pullover', 'Dress', 'Coat',\n",
    "               'Sandal', 'Shirt', 'Sneaker', 'Bag', 'Ankle boot']\n",
    "\n",
    "#(X_train, y_train), (X_test, y_test) = mnist.load_data()\n",
    "(X_train, y_train), (X_test, y_test) = fashion_mnist.load_data()\n",
    "print(\"X_train original shape\", X_train.shape)\n",
    "print(\"y_train original shape\", y_train.shape)"
   ],
   "execution_count": 3,
   "outputs": [
    {
     "output_type": "stream",
     "name": "stdout",
     "text": [
      "Downloading data from https://storage.googleapis.com/tensorflow/tf-keras-datasets/train-labels-idx1-ubyte.gz\n",
      "29515/29515 [==============================] - 0s 0us/step\n",
      "Downloading data from https://storage.googleapis.com/tensorflow/tf-keras-datasets/train-images-idx3-ubyte.gz\n",
      "26421880/26421880 [==============================] - 0s 0us/step\n",
      "Downloading data from https://storage.googleapis.com/tensorflow/tf-keras-datasets/t10k-labels-idx1-ubyte.gz\n",
      "5148/5148 [==============================] - 0s 0us/step\n",
      "Downloading data from https://storage.googleapis.com/tensorflow/tf-keras-datasets/t10k-images-idx3-ubyte.gz\n",
      "4422102/4422102 [==============================] - 0s 0us/step\n",
      "X_train original shape (60000, 28, 28)\n",
      "y_train original shape (60000,)\n"
     ]
    }
   ]
  },
  {
   "cell_type": "markdown",
   "metadata": {
    "id": "gJDe17SdCn6R"
   },
   "source": [
    "Wypisz ilość elementów w zbiorze uczącym i testowym."
   ]
  },
  {
   "cell_type": "code",
   "metadata": {
    "id": "eAcGemlGbuUG",
    "ExecuteTime": {
     "start_time": "2024-03-27T13:30:26.061068Z",
     "end_time": "2024-03-27T13:30:26.113034Z"
    },
    "colab": {
     "base_uri": "https://localhost:8080/"
    },
    "outputId": "4a2b1c4d-5b8b-4a21-9ed8-2de59a1b8304"
   },
   "source": [
    "print(X_test)\n",
    "print(X_train)\n",
    "\n",
    "print(f'Len of X_test: {len(list(X_test))}')\n",
    "print(f'Len of X_train: {len(list(X_train))}')"
   ],
   "execution_count": 4,
   "outputs": [
    {
     "output_type": "stream",
     "name": "stdout",
     "text": [
      "[[[0 0 0 ... 0 0 0]\n",
      "  [0 0 0 ... 0 0 0]\n",
      "  [0 0 0 ... 0 0 0]\n",
      "  ...\n",
      "  [0 0 0 ... 0 0 0]\n",
      "  [0 0 0 ... 0 0 0]\n",
      "  [0 0 0 ... 0 0 0]]\n",
      "\n",
      " [[0 0 0 ... 0 0 0]\n",
      "  [0 0 0 ... 0 0 0]\n",
      "  [0 0 0 ... 0 0 0]\n",
      "  ...\n",
      "  [0 0 0 ... 0 0 0]\n",
      "  [0 0 0 ... 0 0 0]\n",
      "  [0 0 0 ... 0 0 0]]\n",
      "\n",
      " [[0 0 0 ... 0 0 0]\n",
      "  [0 0 0 ... 0 0 0]\n",
      "  [0 0 0 ... 0 0 0]\n",
      "  ...\n",
      "  [0 0 0 ... 0 0 0]\n",
      "  [0 0 0 ... 0 0 0]\n",
      "  [0 0 0 ... 0 0 0]]\n",
      "\n",
      " ...\n",
      "\n",
      " [[0 0 0 ... 0 0 0]\n",
      "  [0 0 0 ... 0 0 0]\n",
      "  [0 0 0 ... 0 0 0]\n",
      "  ...\n",
      "  [0 0 0 ... 0 0 0]\n",
      "  [0 0 0 ... 0 0 0]\n",
      "  [0 0 0 ... 0 0 0]]\n",
      "\n",
      " [[0 0 0 ... 0 0 0]\n",
      "  [0 0 0 ... 0 0 0]\n",
      "  [0 0 0 ... 0 0 0]\n",
      "  ...\n",
      "  [0 0 0 ... 0 0 0]\n",
      "  [0 0 0 ... 0 0 0]\n",
      "  [0 0 0 ... 0 0 0]]\n",
      "\n",
      " [[0 0 0 ... 0 0 0]\n",
      "  [0 0 0 ... 0 0 0]\n",
      "  [0 0 0 ... 0 0 0]\n",
      "  ...\n",
      "  [0 0 0 ... 0 0 0]\n",
      "  [0 0 0 ... 0 0 0]\n",
      "  [0 0 0 ... 0 0 0]]]\n",
      "[[[0 0 0 ... 0 0 0]\n",
      "  [0 0 0 ... 0 0 0]\n",
      "  [0 0 0 ... 0 0 0]\n",
      "  ...\n",
      "  [0 0 0 ... 0 0 0]\n",
      "  [0 0 0 ... 0 0 0]\n",
      "  [0 0 0 ... 0 0 0]]\n",
      "\n",
      " [[0 0 0 ... 0 0 0]\n",
      "  [0 0 0 ... 0 0 0]\n",
      "  [0 0 0 ... 0 0 0]\n",
      "  ...\n",
      "  [0 0 0 ... 0 0 0]\n",
      "  [0 0 0 ... 0 0 0]\n",
      "  [0 0 0 ... 0 0 0]]\n",
      "\n",
      " [[0 0 0 ... 0 0 0]\n",
      "  [0 0 0 ... 0 0 0]\n",
      "  [0 0 0 ... 0 0 0]\n",
      "  ...\n",
      "  [0 0 0 ... 0 0 0]\n",
      "  [0 0 0 ... 0 0 0]\n",
      "  [0 0 0 ... 0 0 0]]\n",
      "\n",
      " ...\n",
      "\n",
      " [[0 0 0 ... 0 0 0]\n",
      "  [0 0 0 ... 0 0 0]\n",
      "  [0 0 0 ... 0 0 0]\n",
      "  ...\n",
      "  [0 0 0 ... 0 0 0]\n",
      "  [0 0 0 ... 0 0 0]\n",
      "  [0 0 0 ... 0 0 0]]\n",
      "\n",
      " [[0 0 0 ... 0 0 0]\n",
      "  [0 0 0 ... 0 0 0]\n",
      "  [0 0 0 ... 0 0 0]\n",
      "  ...\n",
      "  [0 0 0 ... 0 0 0]\n",
      "  [0 0 0 ... 0 0 0]\n",
      "  [0 0 0 ... 0 0 0]]\n",
      "\n",
      " [[0 0 0 ... 0 0 0]\n",
      "  [0 0 0 ... 0 0 0]\n",
      "  [0 0 0 ... 0 0 0]\n",
      "  ...\n",
      "  [0 0 0 ... 0 0 0]\n",
      "  [0 0 0 ... 0 0 0]\n",
      "  [0 0 0 ... 0 0 0]]]\n",
      "Len of X_test: 10000\n",
      "Len of X_train: 60000\n"
     ]
    }
   ]
  },
  {
   "cell_type": "markdown",
   "metadata": {
    "id": "ZnhPDvc8DCcr"
   },
   "source": [
    "**TODO** Zmień poniższy kod tak by wyświetlić 10 przykładowych obrazków - po jednym z każdej klasy."
   ]
  },
  {
   "cell_type": "code",
   "metadata": {
    "colab": {
     "base_uri": "https://localhost:8080/",
     "height": 370
    },
    "id": "G6DBqmkEcKKL",
    "outputId": "2e150d9b-17c8-46f8-a0e4-83eac541f4cf",
    "ExecuteTime": {
     "start_time": "2024-03-27T13:34:55.735264Z",
     "end_time": "2024-03-27T13:34:56.654630Z"
    }
   },
   "source": [
    "for i in range(10):\n",
    "    plt.subplot(2, 5, i + 1)\n",
    "    plt.imshow(X_train[y_train == i][0], cmap='gray', interpolation='none')\n",
    "    plt.title(f'Class {y_train[y_train == i][0]}')"
   ],
   "execution_count": 5,
   "outputs": [
    {
     "output_type": "display_data",
     "data": {
      "text/plain": [
       "<Figure size 640x480 with 10 Axes>"
      ],
      "image/png": "[encoded data removed]"
     },
     "metadata": {}
    }
   ]
  },
  {
   "cell_type": "markdown",
   "metadata": {
    "id": "VMjUbt92c1hL"
   },
   "source": [
    "Sieć neuronowa przyjmuje na wejściu obrazek z jednym kanałem - poziomem jasności, więc konieczne jest przekształcenie danych wejściowych, aby każdy obraz 28 x 28 stał się macierzą 28 x 28 x 1.\n",
    "\n",
    "Skalujemy również dane wejściowe w zakresie [0–1] zamiast [0–255]"
   ]
  },
  {
   "cell_type": "code",
   "metadata": {
    "id": "eBEvZU9gdFfU",
    "ExecuteTime": {
     "start_time": "2024-03-27T13:36:49.265141Z",
     "end_time": "2024-03-27T13:36:49.328278Z"
    },
    "colab": {
     "base_uri": "https://localhost:8080/"
    },
    "outputId": "17a3f77b-8c0b-413e-9e90-23a2e5eb84cc"
   },
   "source": [
    "X_train = X_train.reshape(60000, 28, 28, 1)\n",
    "X_test = X_test.reshape(10000, 28, 28, 1)\n",
    "X_train = X_train.astype('float32')\n",
    "X_test = X_test.astype('float32')\n",
    "X_train /= 255\n",
    "X_test /= 255\n",
    "print(\"Training matrix shape\", X_train.shape)\n",
    "print(\"Testing matrix shape\", X_test.shape)\n",
    "\n",
    "print(nb_classes)"
   ],
   "execution_count": 6,
   "outputs": [
    {
     "output_type": "stream",
     "name": "stdout",
     "text": [
      "Training matrix shape (60000, 28, 28, 1)\n",
      "Testing matrix shape (10000, 28, 28, 1)\n",
      "10\n"
     ]
    }
   ]
  },
  {
   "cell_type": "markdown",
   "metadata": {
    "id": "-tJKBV4LdMm7"
   },
   "source": [
    "Zmodyfikuj macierze wyjść korzystając z techniki One Hot Encoding, tj.\n",
    "\n",
    "```\n",
    "0 -> [1, 0, 0, 0, 0, 0, 0, 0, 0]\n",
    "1 -> [0, 1, 0, 0, 0, 0, 0, 0, 0]\n",
    "2 -> [0, 0, 1, 0, 0, 0, 0, 0, 0]\n",
    "```\n",
    "itp."
   ]
  },
  {
   "cell_type": "code",
   "metadata": {
    "id": "YeyLgauzdLUC",
    "ExecuteTime": {
     "start_time": "2024-03-27T13:39:31.532440Z",
     "end_time": "2024-03-27T13:39:31.544759Z"
    }
   },
   "source": [
    "Y_train = to_categorical(y_train, num_classes=len(np.unique(y_train)))\n",
    "Y_test = to_categorical(y_test, num_classes=len(np.unique(y_train)))"
   ],
   "execution_count": 7,
   "outputs": []
  },
  {
   "cell_type": "markdown",
   "metadata": {
    "id": "0MBVlQSBDhd3"
   },
   "source": [
    "Wielowarstwowa sieć konwolucyjna do klasyfikacji ubrań."
   ]
  },
  {
   "cell_type": "code",
   "metadata": {
    "id": "JenWFnRJPyI6",
    "ExecuteTime": {
     "start_time": "2024-03-27T13:39:40.022307Z",
     "end_time": "2024-03-27T13:39:40.191060Z"
    }
   },
   "source": [
    "model = Sequential([\n",
    "    Conv2D(16, 3, activation='relu', input_shape=(28, 28, 1)),\n",
    "    MaxPooling2D(),\n",
    "    Conv2D(32, 3, activation='relu'),\n",
    "    Flatten(),\n",
    "    Dense(64, activation='relu'),\n",
    "    Dense(10, activation='softmax')\n",
    "])\n",
    "\n",
    "model.compile(optimizer='adam', loss='categorical_crossentropy', metrics=['accuracy'])"
   ],
   "execution_count": 8,
   "outputs": []
  },
  {
   "cell_type": "code",
   "metadata": {
    "id": "iSxRrxYK6pUU",
    "colab": {
     "base_uri": "https://localhost:8080/"
    },
    "outputId": "fae1035f-8324-4044-e57c-0959be8b8ccb"
   },
   "source": [
    "model.summary()"
   ],
   "execution_count": 9,
   "outputs": [
    {
     "output_type": "stream",
     "name": "stdout",
     "text": [
      "Model: \"sequential\"\n",
      "_________________________________________________________________\n",
      " Layer (type)                Output Shape              Param #   \n",
      "=================================================================\n",
      " conv2d (Conv2D)             (None, 26, 26, 16)        160       \n",
      "                                                                 \n",
      " max_pooling2d (MaxPooling2  (None, 13, 13, 16)        0         \n",
      " D)                                                              \n",
      "                                                                 \n",
      " conv2d_1 (Conv2D)           (None, 11, 11, 32)        4640      \n",
      "                                                                 \n",
      " flatten (Flatten)           (None, 3872)              0         \n",
      "                                                                 \n",
      " dense (Dense)               (None, 64)                247872    \n",
      "                                                                 \n",
      " dense_1 (Dense)             (None, 10)                650       \n",
      "                                                                 \n",
      "=================================================================\n",
      "Total params: 253322 (989.54 KB)\n",
      "Trainable params: 253322 (989.54 KB)\n",
      "Non-trainable params: 0 (0.00 Byte)\n",
      "_________________________________________________________________\n"
     ]
    }
   ]
  },
  {
   "cell_type": "markdown",
   "metadata": {
    "id": "7CKJgoMcDrFv"
   },
   "source": [
    "W celu skrócenia czasu uczenia sieci wskazane jest użycie GPU."
   ]
  },
  {
   "cell_type": "code",
   "metadata": {
    "id": "Xo3UTs-Hd8L0",
    "colab": {
     "base_uri": "https://localhost:8080/"
    },
    "outputId": "fa4290fe-8d20-4892-a9cf-63af78910df1"
   },
   "source": [
    "model.fit(X_train, Y_train,\n",
    "          batch_size=32, epochs=10,\n",
    "          verbose=1,\n",
    "          validation_data=(X_test, Y_test))"
   ],
   "execution_count": 10,
   "outputs": [
    {
     "output_type": "stream",
     "name": "stdout",
     "text": [
      "Epoch 1/10\n",
      "1875/1875 [==============================] - 18s 5ms/step - loss: 0.4456 - accuracy: 0.8385 - val_loss: 0.3379 - val_accuracy: 0.8803\n",
      "Epoch 2/10\n",
      "1875/1875 [==============================] - 7s 4ms/step - loss: 0.2934 - accuracy: 0.8944 - val_loss: 0.2856 - val_accuracy: 0.8955\n",
      "Epoch 3/10\n",
      "1875/1875 [==============================] - 7s 4ms/step - loss: 0.2435 - accuracy: 0.9116 - val_loss: 0.2633 - val_accuracy: 0.9023\n",
      "Epoch 4/10\n",
      "1875/1875 [==============================] - 7s 4ms/step - loss: 0.2101 - accuracy: 0.9237 - val_loss: 0.2547 - val_accuracy: 0.9077\n",
      "Epoch 5/10\n",
      "1875/1875 [==============================] - 8s 4ms/step - loss: 0.1845 - accuracy: 0.9329 - val_loss: 0.2496 - val_accuracy: 0.9107\n",
      "Epoch 6/10\n",
      "1875/1875 [==============================] - 7s 4ms/step - loss: 0.1601 - accuracy: 0.9413 - val_loss: 0.2373 - val_accuracy: 0.9179\n",
      "Epoch 7/10\n",
      "1875/1875 [==============================] - 8s 4ms/step - loss: 0.1402 - accuracy: 0.9489 - val_loss: 0.2337 - val_accuracy: 0.9210\n",
      "Epoch 8/10\n",
      "1875/1875 [==============================] - 7s 4ms/step - loss: 0.1242 - accuracy: 0.9545 - val_loss: 0.2505 - val_accuracy: 0.9184\n",
      "Epoch 9/10\n",
      "1875/1875 [==============================] - 7s 4ms/step - loss: 0.1068 - accuracy: 0.9604 - val_loss: 0.2619 - val_accuracy: 0.9164\n",
      "Epoch 10/10\n",
      "1875/1875 [==============================] - 7s 4ms/step - loss: 0.0945 - accuracy: 0.9656 - val_loss: 0.2810 - val_accuracy: 0.9175\n"
     ]
    },
    {
     "output_type": "execute_result",
     "data": {
      "text/plain": [
       "<keras.src.callbacks.History at 0x7fec76069000>"
      ]
     },
     "metadata": {},
     "execution_count": 10
    }
   ]
  },
  {
   "cell_type": "markdown",
   "metadata": {
    "id": "VUF-tZzKG_5r"
   },
   "source": [
    "# Zapisywanie NN\n",
    "\n",
    "Szczegółowe informacje dotyczące zapisywania modeli TensorFlow dostępne pod linkiem:\n",
    "\n",
    "https://www.tensorflow.org/tutorials/keras/save_and_load"
   ]
  },
  {
   "cell_type": "code",
   "metadata": {
    "id": "_XXAwJIjR-eF"
   },
   "source": [
    "export_dir = 'saved_model'\n",
    "model.save(export_dir)"
   ],
   "execution_count": 11,
   "outputs": []
  },
  {
   "cell_type": "markdown",
   "metadata": {
    "id": "2Qc03BzFZkOL"
   },
   "source": [
    "Po zapisaniu modelu należy kliknąć \"Refresh\" po lewej stronie w zakładce \"Files\". W katalogu \"saved_model\" znajduje się zapisany model."
   ]
  },
  {
   "cell_type": "markdown",
   "metadata": {
    "id": "2ikJea6vRj4o"
   },
   "source": [
    "# Export do TFLite\n",
    "\n",
    "Narzędzie `TFLiteConverter` zostanie wykorzystane do konwersji modelu NN do formatu akceptowanego przez TFLite tzn. `flat protocol buffers`.\n",
    "\n",
    "https://www.tensorflow.org/lite/guide/get_started#2_convert_the_model_format\n",
    "\n",
    "Wygenerowany model `\"model-base.tflite\"` operuje na wagach typu `float32`."
   ]
  },
  {
   "cell_type": "code",
   "execution_count": 12,
   "outputs": [],
   "source": [
    "converter = tf.lite.TFLiteConverter.from_saved_model(export_dir)\n",
    "tflite_model = converter.convert()\n",
    "\n",
    "with open(\"model-base.tflite\", \"wb\") as f:\n",
    "    f.write(tflite_model)"
   ],
   "metadata": {
    "id": "ypamrWub7YGq"
   }
  },
  {
   "cell_type": "markdown",
   "source": [
    "Po zapisaniu modelu należy kliknąć \"Refresh\" po lewej stronie w zakładce \"Files\"."
   ],
   "metadata": {
    "collapsed": false,
    "id": "_HhmzGlZ7YGq"
   }
  },
  {
   "cell_type": "markdown",
   "metadata": {
    "id": "RAw9StfeGxB3"
   },
   "source": [
    "Kolejnym krokiem jest kwantyzacja wag modelu z 32 bitowych liczb rzeczywistych do liczb 8 bitowych. Proces kwantyzacji jest uruchamiany na gotowym, wyuczonym modelu. Należy wybrać profil optymaliacji `tf.lite.Optimize.DEFAULT`.\n",
    "\n"
   ]
  },
  {
   "cell_type": "code",
   "metadata": {
    "id": "cimp2vhU51dZ"
   },
   "source": [
    "converter = tf.lite.TFLiteConverter.from_saved_model(export_dir)\n",
    "\n",
    "#TODO ustaw odpowiedni rodzaj optymalizacji sieci neuronowej\n",
    "converter.optimizations = [tf.lite.Optimize.DEFAULT]\n",
    "\n",
    "tflite_model = converter.convert()\n",
    "\n",
    "with open(\"model-quant.tflite\", \"wb\") as f:\n",
    "    f.write(tflite_model)"
   ],
   "execution_count": 13,
   "outputs": []
  },
  {
   "cell_type": "markdown",
   "metadata": {
    "id": "Qr9DQgrKHi_B"
   },
   "source": [
    "Po zapisaniu modelu należy kliknąć \"Refresh\" po lewej stronie w zakładce \"Files\"."
   ]
  },
  {
   "cell_type": "code",
   "metadata": {
    "id": "ZUcelAwJ5NU7"
   },
   "source": [
    "# funkcja testujaca model z wykorzystaniem interpretera TFLite\n",
    "# TODO zmodyfikuj funkcje tak by zwracala (accuracy, latency)\n",
    "from time import perf_counter\n",
    "\n",
    "\n",
    "def test_model_accuracy(tflite_model):\n",
    "    # Load TFLite model and allocate tensors.\n",
    "    start = perf_counter()\n",
    "    interpreter = tf.lite.Interpreter(model_path=tflite_model)\n",
    "    interpreter.allocate_tensors()\n",
    "\n",
    "    input_index = interpreter.get_input_details()[0][\"index\"]\n",
    "    output_index = interpreter.get_output_details()[0][\"index\"]\n",
    "\n",
    "    acc_count = 0\n",
    "\n",
    "    for img, label in zip(X_test, y_test):\n",
    "        interpreter.set_tensor(input_index, [img])\n",
    "\n",
    "        interpreter.invoke()\n",
    "\n",
    "        prediction = interpreter.get_tensor(output_index)\n",
    "        label_is = np.argmax(prediction, axis=-1)[0]\n",
    "        label_should_be = label\n",
    "        if label_is == label_should_be:\n",
    "            acc_count += 1\n",
    "\n",
    "        print(\"Label is {} should be {}.\".format(label_is, label_should_be))\n",
    "\n",
    "    end = perf_counter()\n",
    "\n",
    "    accuracy = acc_count / len(y_test)\n",
    "    latency = end - start\n",
    "\n",
    "    return accuracy, latency"
   ],
   "execution_count": 19,
   "outputs": []
  },
  {
   "cell_type": "code",
   "metadata": {
    "id": "_tHC8pGhT0_N",
    "colab": {
     "base_uri": "https://localhost:8080/"
    },
    "outputId": "7721121f-b239-4d7a-9669-eef0bdaa2565"
   },
   "source": [
    "model_base_acc, model_base_time = test_model_accuracy(\"model-base.tflite\")\n",
    "print(model_base_acc)\n",
    "\n",
    "model_quant_acc, model_quant_time = test_model_accuracy(\"model-quant.tflite\")\n",
    "print(model_quant_acc)"
   ],
   "execution_count": 20,
   "outputs": [
    {
     "output_type": "stream",
     "name": "stdout",
     "text": [
      "0.9175\n",
      "0.9178\n"
     ]
    }
   ]
  },
  {
   "cell_type": "code",
   "metadata": {
    "id": "9SshGHd36A9a",
    "colab": {
     "base_uri": "https://localhost:8080/",
     "height": 489
    },
    "outputId": "8b6c07e5-5268-498f-8591-e31624a5c0f4"
   },
   "source": [
    "# porównaj dokladnosc wynikowych modeli TFLite\n",
    "\n",
    "# TODO wyniki przedstaw na wykresie słupkowym (jeden slupek dla model-base, a drugi dla model-quant)\n",
    "print(f'Model base accuracy: {model_base_acc}')\n",
    "print(f'Model quant accuracy: {model_quant_acc}')\n",
    "\n",
    "plt.bar(['model-base', 'model-quant'], [model_base_acc, model_quant_acc])\n",
    "plt.ylabel('Accuracy')\n",
    "plt.title('Models accuracy')\n",
    "plt.show()"
   ],
   "execution_count": 21,
   "outputs": [
    {
     "output_type": "stream",
     "name": "stdout",
     "text": [
      "Model base accuracy: 0.9175\n",
      "Model quant accuracy: 0.9178\n"
     ]
    },
    {
     "output_type": "display_data",
     "data": {
      "text/plain": [
       "<Figure size 640x480 with 1 Axes>"
      ],
      "image/png": "[encoded data removed]"
     },
     "metadata": {}
    }
   ]
  },
  {
   "cell_type": "code",
   "metadata": {
    "id": "sZ9FYFBnIBaY",
    "colab": {
     "base_uri": "https://localhost:8080/",
     "height": 452
    },
    "outputId": "7dbeea1c-c8f2-481b-fdb0-e62fbde829ce"
   },
   "source": [
    "# porównaj rozmiar wynikowych modeli TFLite\n",
    "\n",
    "# TODO wyniki przedstaw na wykresie słupkowym (jeden slupek dla model-base, a drugi dla model-quant)\n",
    "plt.bar(['model-base', 'model-quant'],\n",
    "        [pathlib.Path('model-base.tflite').stat().st_size, pathlib.Path('model-quant.tflite').stat().st_size])\n",
    "plt.ylabel('Size in bytes')\n",
    "plt.title('Models size')\n",
    "plt.show()"
   ],
   "execution_count": 22,
   "outputs": [
    {
     "output_type": "display_data",
     "data": {
      "text/plain": [
       "<Figure size 640x480 with 1 Axes>"
      ],
      "image/png": "[encoded data removed]"
     },
     "metadata": {}
    }
   ]
  },
  {
   "cell_type": "code",
   "metadata": {
    "id": "ymoU1RNc6D5m",
    "colab": {
     "base_uri": "https://localhost:8080/",
     "height": 489
    },
    "outputId": "3b29bdc5-b540-4124-81bf-37d53024f71d"
   },
   "source": [
    "# porównaj czas dzialania wynikowych modeli TFLite\n",
    "\n",
    "# TODO wyniki przedstaw na wykresie słupkowym (jeden slupek dla model-base, a drugi dla model-quant)\n",
    "print(f'Model base time: {model_base_time}')\n",
    "print(f'Model quant time: {model_quant_time}')\n",
    "\n",
    "plt.bar(['model-base', 'model-quant'], [model_base_time, model_quant_time])\n",
    "plt.ylabel('Time in seconds')\n",
    "plt.title('Models time')\n",
    "plt.show()"
   ],
   "execution_count": 23,
   "outputs": [
    {
     "output_type": "stream",
     "name": "stdout",
     "text": [
      "Model base time: 0.9000262069999962\n",
      "Model quant time: 0.4727648379999664\n"
     ]
    },
    {
     "output_type": "display_data",
     "data": {
      "text/plain": [
       "<Figure size 640x480 with 1 Axes>"
      ],
      "image/png": "[encoded data removed]"
     },
     "metadata": {}
    }
   ]
  },
  {
   "cell_type": "markdown",
   "metadata": {
    "id": "5fCWZL6YuiDh"
   },
   "source": [
    " # Wnioski\n",
    "\n",
    "**TODO** Przedstaw wnioski z przeprowadzonych eksperymentów\n",
    "\n",
    "Wnioski:\n",
    "- Dokładności obu modeli są bardzo podobne, można powiedzieć, że są identyczne.\n",
    "- Rozmiar modelu model-quant jest znacznie mniejszy niż modelu model-base.\n",
    "- Czas działania modelu model-quant jest mniejszy niż modelu model-base.\n",
    "\n",
    "**TODO** Dlaczego czasy działania modeli są różne?\n",
    "\n",
    "Czasy działania modeli są różne, ponieważ model model-quant jest zoptymalizowany, co pozwala na szybsze działanie modelu. Również model model-quant jest mniejszy, co pozwala na szybsze działanie modelu."
   ]
  }
 ]
}
