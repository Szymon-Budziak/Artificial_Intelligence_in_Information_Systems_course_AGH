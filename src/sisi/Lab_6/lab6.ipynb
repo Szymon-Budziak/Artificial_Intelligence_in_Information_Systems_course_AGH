{
 "cells": [
  {
   "metadata": {},
   "cell_type": "markdown",
   "source": "# Lab 6 – AWS Lamda ML",
   "id": "b5a4eba2e5a67fd7"
  },
  {
   "metadata": {
    "ExecuteTime": {
     "end_time": "2024-04-19T11:40:01.857080Z",
     "start_time": "2024-04-19T11:40:00.149443Z"
    }
   },
   "cell_type": "code",
   "source": [
    "import shap\n",
    "\n",
    "data, labels = shap.datasets.adult()"
   ],
   "id": "9b6c6633e4f152b9",
   "outputs": [],
   "execution_count": 1
  },
  {
   "metadata": {},
   "cell_type": "markdown",
   "source": "### Analyze the data",
   "id": "e8633dce6b88c7f"
  },
  {
   "metadata": {
    "ExecuteTime": {
     "end_time": "2024-04-19T11:40:01.873538Z",
     "start_time": "2024-04-19T11:40:01.858862Z"
    }
   },
   "cell_type": "code",
   "source": "data.head()",
   "id": "b142e5272000e426",
   "outputs": [
    {
     "data": {
      "text/plain": [
       "    Age  Workclass  Education-Num  Marital Status  Occupation  Relationship  \\\n",
       "0  39.0          7           13.0               4           1             0   \n",
       "1  50.0          6           13.0               2           4             4   \n",
       "2  38.0          4            9.0               0           6             0   \n",
       "3  53.0          4            7.0               2           6             4   \n",
       "4  28.0          4           13.0               2          10             5   \n",
       "\n",
       "   Race  Sex  Capital Gain  Capital Loss  Hours per week  Country  \n",
       "0     4    1        2174.0           0.0            40.0       39  \n",
       "1     4    1           0.0           0.0            13.0       39  \n",
       "2     4    1           0.0           0.0            40.0       39  \n",
       "3     2    1           0.0           0.0            40.0       39  \n",
       "4     2    0           0.0           0.0            40.0        5  "
      ],
      "text/html": [
       "<div>\n",
       "<style scoped>\n",
       "    .dataframe tbody tr th:only-of-type {\n",
       "        vertical-align: middle;\n",
       "    }\n",
       "\n",
       "    .dataframe tbody tr th {\n",
       "        vertical-align: top;\n",
       "    }\n",
       "\n",
       "    .dataframe thead th {\n",
       "        text-align: right;\n",
       "    }\n",
       "</style>\n",
       "<table border=\"1\" class=\"dataframe\">\n",
       "  <thead>\n",
       "    <tr style=\"text-align: right;\">\n",
       "      <th></th>\n",
       "      <th>Age</th>\n",
       "      <th>Workclass</th>\n",
       "      <th>Education-Num</th>\n",
       "      <th>Marital Status</th>\n",
       "      <th>Occupation</th>\n",
       "      <th>Relationship</th>\n",
       "      <th>Race</th>\n",
       "      <th>Sex</th>\n",
       "      <th>Capital Gain</th>\n",
       "      <th>Capital Loss</th>\n",
       "      <th>Hours per week</th>\n",
       "      <th>Country</th>\n",
       "    </tr>\n",
       "  </thead>\n",
       "  <tbody>\n",
       "    <tr>\n",
       "      <th>0</th>\n",
       "      <td>39.0</td>\n",
       "      <td>7</td>\n",
       "      <td>13.0</td>\n",
       "      <td>4</td>\n",
       "      <td>1</td>\n",
       "      <td>0</td>\n",
       "      <td>4</td>\n",
       "      <td>1</td>\n",
       "      <td>2174.0</td>\n",
       "      <td>0.0</td>\n",
       "      <td>40.0</td>\n",
       "      <td>39</td>\n",
       "    </tr>\n",
       "    <tr>\n",
       "      <th>1</th>\n",
       "      <td>50.0</td>\n",
       "      <td>6</td>\n",
       "      <td>13.0</td>\n",
       "      <td>2</td>\n",
       "      <td>4</td>\n",
       "      <td>4</td>\n",
       "      <td>4</td>\n",
       "      <td>1</td>\n",
       "      <td>0.0</td>\n",
       "      <td>0.0</td>\n",
       "      <td>13.0</td>\n",
       "      <td>39</td>\n",
       "    </tr>\n",
       "    <tr>\n",
       "      <th>2</th>\n",
       "      <td>38.0</td>\n",
       "      <td>4</td>\n",
       "      <td>9.0</td>\n",
       "      <td>0</td>\n",
       "      <td>6</td>\n",
       "      <td>0</td>\n",
       "      <td>4</td>\n",
       "      <td>1</td>\n",
       "      <td>0.0</td>\n",
       "      <td>0.0</td>\n",
       "      <td>40.0</td>\n",
       "      <td>39</td>\n",
       "    </tr>\n",
       "    <tr>\n",
       "      <th>3</th>\n",
       "      <td>53.0</td>\n",
       "      <td>4</td>\n",
       "      <td>7.0</td>\n",
       "      <td>2</td>\n",
       "      <td>6</td>\n",
       "      <td>4</td>\n",
       "      <td>2</td>\n",
       "      <td>1</td>\n",
       "      <td>0.0</td>\n",
       "      <td>0.0</td>\n",
       "      <td>40.0</td>\n",
       "      <td>39</td>\n",
       "    </tr>\n",
       "    <tr>\n",
       "      <th>4</th>\n",
       "      <td>28.0</td>\n",
       "      <td>4</td>\n",
       "      <td>13.0</td>\n",
       "      <td>2</td>\n",
       "      <td>10</td>\n",
       "      <td>5</td>\n",
       "      <td>2</td>\n",
       "      <td>0</td>\n",
       "      <td>0.0</td>\n",
       "      <td>0.0</td>\n",
       "      <td>40.0</td>\n",
       "      <td>5</td>\n",
       "    </tr>\n",
       "  </tbody>\n",
       "</table>\n",
       "</div>"
      ]
     },
     "execution_count": 2,
     "metadata": {},
     "output_type": "execute_result"
    }
   ],
   "execution_count": 2
  },
  {
   "metadata": {
    "ExecuteTime": {
     "end_time": "2024-04-19T11:40:01.879576Z",
     "start_time": "2024-04-19T11:40:01.874454Z"
    }
   },
   "cell_type": "code",
   "source": "data.info()",
   "id": "d97121aa3963c2b9",
   "outputs": [
    {
     "name": "stdout",
     "output_type": "stream",
     "text": [
      "<class 'pandas.core.frame.DataFrame'>\n",
      "RangeIndex: 32561 entries, 0 to 32560\n",
      "Data columns (total 12 columns):\n",
      " #   Column          Non-Null Count  Dtype  \n",
      "---  ------          --------------  -----  \n",
      " 0   Age             32561 non-null  float32\n",
      " 1   Workclass       32561 non-null  int8   \n",
      " 2   Education-Num   32561 non-null  float32\n",
      " 3   Marital Status  32561 non-null  int8   \n",
      " 4   Occupation      32561 non-null  int8   \n",
      " 5   Relationship    32561 non-null  int64  \n",
      " 6   Race            32561 non-null  int8   \n",
      " 7   Sex             32561 non-null  int8   \n",
      " 8   Capital Gain    32561 non-null  float32\n",
      " 9   Capital Loss    32561 non-null  float32\n",
      " 10  Hours per week  32561 non-null  float32\n",
      " 11  Country         32561 non-null  int8   \n",
      "dtypes: float32(5), int64(1), int8(6)\n",
      "memory usage: 1.1 MB\n"
     ]
    }
   ],
   "execution_count": 3
  },
  {
   "metadata": {},
   "cell_type": "markdown",
   "source": "### Analyze the labels",
   "id": "83962e008f8442d9"
  },
  {
   "metadata": {
    "ExecuteTime": {
     "end_time": "2024-04-19T11:40:01.882716Z",
     "start_time": "2024-04-19T11:40:01.880324Z"
    }
   },
   "cell_type": "code",
   "source": "labels",
   "id": "6fa343880ac0458f",
   "outputs": [
    {
     "data": {
      "text/plain": [
       "array([False, False, False, ..., False, False,  True])"
      ]
     },
     "execution_count": 4,
     "metadata": {},
     "output_type": "execute_result"
    }
   ],
   "execution_count": 4
  },
  {
   "metadata": {
    "ExecuteTime": {
     "end_time": "2024-04-19T11:40:01.952575Z",
     "start_time": "2024-04-19T11:40:01.884359Z"
    }
   },
   "cell_type": "code",
   "source": [
    "import lightgbm as lgbm\n",
    "\n",
    "params = {\n",
    "    'objective': 'binary',\n",
    "    'booster_type': 'gbdt',\n",
    "    'max_depth': 6,\n",
    "    'learning_rate': 0.05,\n",
    "    'metric': 'auc'\n",
    "}"
   ],
   "id": "3de0a5d903c2c3b2",
   "outputs": [],
   "execution_count": 5
  },
  {
   "metadata": {
    "ExecuteTime": {
     "end_time": "2024-04-19T11:40:02.722933Z",
     "start_time": "2024-04-19T11:40:01.953498Z"
    }
   },
   "cell_type": "code",
   "source": [
    "dtrain = lgbm.Dataset(data, labels)\n",
    "\n",
    "model = lgbm.train(params, dtrain, num_boost_round=100, valid_sets=[dtrain])"
   ],
   "id": "ac4c6bb28e960c18",
   "outputs": [
    {
     "name": "stdout",
     "output_type": "stream",
     "text": [
      "[LightGBM] [Warning] Unknown parameter: booster_type\n",
      "[LightGBM] [Warning] Accuracy may be bad since you didn't explicitly set num_leaves OR 2^max_depth > num_leaves. (num_leaves=31).\n",
      "[LightGBM] [Warning] Found whitespace in feature_names, replace with underlines\n",
      "[LightGBM] [Warning] Unknown parameter: booster_type\n",
      "[LightGBM] [Warning] Accuracy may be bad since you didn't explicitly set num_leaves OR 2^max_depth > num_leaves. (num_leaves=31).\n",
      "[LightGBM] [Info] Number of positive: 7841, number of negative: 24720\n",
      "[LightGBM] [Info] Auto-choosing row-wise multi-threading, the overhead of testing was 0.001146 seconds.\n",
      "You can set `force_row_wise=true` to remove the overhead.\n",
      "And if memory is not enough, you can set `force_col_wise=true`.\n",
      "[LightGBM] [Info] Total Bins 431\n",
      "[LightGBM] [Info] Number of data points in the train set: 32561, number of used features: 12\n",
      "[LightGBM] [Info] [binary:BoostFromScore]: pavg=0.240810 -> initscore=-1.148246\n",
      "[LightGBM] [Info] Start training from score -1.148246\n"
     ]
    }
   ],
   "execution_count": 6
  }
 ],
 "metadata": {
  "kernelspec": {
   "display_name": "Python 3",
   "language": "python",
   "name": "python3"
  },
  "language_info": {
   "codemirror_mode": {
    "name": "ipython",
    "version": 2
   },
   "file_extension": ".py",
   "mimetype": "text/x-python",
   "name": "python",
   "nbconvert_exporter": "python",
   "pygments_lexer": "ipython2",
   "version": "2.7.6"
  }
 },
 "nbformat": 4,
 "nbformat_minor": 5
}
